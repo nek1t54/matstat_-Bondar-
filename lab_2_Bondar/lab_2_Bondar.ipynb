{
 "cells": [
  {
   "cell_type": "markdown",
   "id": "763dc06e-223c-4480-b946-bf7df92204f0",
   "metadata": {},
   "source": [
    "<img src=\"5.png\">"
   ]
  },
  {
   "cell_type": "markdown",
   "id": "82400d95-14e9-445b-8831-e4de9da0fc87",
   "metadata": {},
   "source": [
    "<h1>Контрольні питання</h1>"
   ]
  },
  {
   "cell_type": "markdown",
   "id": "92161ab7-8dff-4e0f-af00-df1bd0d6078a",
   "metadata": {},
   "source": [
    "<h4>1.Що таке pip і conda та чим вони відрізняються між собою?</h4>"
   ]
  },
  {
   "cell_type": "markdown",
   "id": "5c442636-ab19-4dc5-9db1-f8ba2019ab1c",
   "metadata": {},
   "source": [
    "<p>pip - це система керування пакетами для мови програмування Python. Вона дозволяє встановлювати та управляти сторонніми пакетами (бібліотеками) Python</p>"
   ]
  },
  {
   "cell_type": "markdown",
   "id": "631308ff-e3c4-481a-b009-113bf510c481",
   "metadata": {},
   "source": [
    "<p>conda - це інструмент для керування пакетами та середовищами  програмування, який особливо популярний у спільноті даних, наукових обчислень та машинного навчання.</p>"
   ]
  },
  {
   "cell_type": "markdown",
   "id": "68dc3c58-84c8-4ac2-9932-796cbb89386c",
   "metadata": {},
   "source": [
    "<h5>Основні відмінності:</h5>"
   ]
  },
  {
   "cell_type": "markdown",
   "id": "aa99cb04-e09c-46bb-8552-bfd408cbc7f7",
   "metadata": {},
   "source": [
    "<p>Джерело пакетів: pip завантажує пакети з PyPI, тоді як conda використовує свій власний репозиторій пакетів для більш широкого спектру пакетів.\n",
    "</p>"
   ]
  },
  {
   "cell_type": "markdown",
   "id": "06bebc7b-301f-47f4-882f-e55ac719f0fe",
   "metadata": {},
   "source": [
    "<p>Управління середовищами: conda має вбудовану підтримку для створення та управління середовищами, що дозволяє легко ізолювати залежності проектів. Pip вимагає додаткових інструментів (наприклад, virtualenv) для подібного функціоналу.\n",
    "</p>"
   ]
  },
  {
   "cell_type": "markdown",
   "id": "8d9237a5-5f63-4b22-8880-b581dac2f1cc",
   "metadata": {},
   "source": [
    "<p>Залежності пакетів: conda керує більш широким спектром пакетів та їх залежностей, що робить його корисним для обчислювальних та наукових застосувань.</p>"
   ]
  },
  {
   "cell_type": "markdown",
   "id": "6c113229-0c20-41c2-9b1a-71d62ba54686",
   "metadata": {},
   "source": [
    "<h4>2.Як буде виглядати виконання пунктів 1–3 індивідуального завдання за\n",
    "допомогою Virtualenv?</h4>"
   ]
  },
  {
   "cell_type": "markdown",
   "id": "fcd6d8f3-164a-4255-ae70-df58bbfc67b9",
   "metadata": {},
   "source": [
    "<img src=\"1.jpg\">"
   ]
  },
  {
   "cell_type": "markdown",
   "id": "fbc63ec7-0b4c-4011-bc5c-c52a00adf8ab",
   "metadata": {},
   "source": [
    "<img src=\"2.jpg\">"
   ]
  },
  {
   "cell_type": "markdown",
   "id": "ac2cda22-d74f-4d20-a17d-7a72fac3ee03",
   "metadata": {},
   "source": [
    "<img src=\"3.jpg\">"
   ]
  },
  {
   "cell_type": "markdown",
   "id": "a5ca1621-a1b5-41aa-af23-9b5fef13a111",
   "metadata": {},
   "source": [
    "<img src=\"4.jpg\">"
   ]
  },
  {
   "cell_type": "markdown",
   "id": "2d8f937c-37f8-4a99-835f-aff02d9a600e",
   "metadata": {},
   "source": [
    "<h4>3. Сфотографувати себе на телефон та імпортувати свое зображення у\n",
    "форматі .png на початок робочого зошита.</h4>"
   ]
  },
  {
   "cell_type": "markdown",
   "id": "9a9f7a3e-f0af-4859-be43-99b7f5d3ab2f",
   "metadata": {},
   "source": [
    "<h4>4. Написати процедуру на Python сортування масиву методом бульбашки.</h4>"
   ]
  },
  {
   "cell_type": "code",
   "execution_count": 10,
   "id": "27278a95-fac8-4bab-91b1-fc99ba845390",
   "metadata": {},
   "outputs": [
    {
     "name": "stdout",
     "output_type": "stream",
     "text": [
      "Відсортований масив за допомогою сортування бульбашкою:\n",
      "[11, 12, 22, 25, 34, 64, 90]\n"
     ]
    }
   ],
   "source": [
    "def bubble_sort(arr):\n",
    "    n = len(arr)\n",
    "    for i in range(n):\n",
    "        swapped = False\n",
    "        for j in range(0, n-i-1):\n",
    "            if arr[j] > arr[j+1]:\n",
    "                arr[j], arr[j+1] = arr[j+1], arr[j]\n",
    "                swapped = True\n",
    "        if not swapped:\n",
    "            break\n",
    "\n",
    "arr = [64, 34, 25, 12, 22, 11, 90]\n",
    "bubble_sort(arr)\n",
    "print(\"Відсортований масив за допомогою сортування бульбашкою:\")\n",
    "print(arr)\n"
   ]
  },
  {
   "cell_type": "markdown",
   "id": "e4855638-d9c1-4e48-9000-a9aeb4626d8e",
   "metadata": {},
   "source": [
    "<h4>5. Як виконати компіляцію вхідного документа Jupyter Notebook із його\n",
    "середовища, не використовуючи інтерфейс командного рядка?</h4>"
   ]
  },
  {
   "cell_type": "raw",
   "id": "dde0f84c-209e-465e-bee5-cfc733fd7775",
   "metadata": {},
   "source": [
    "jupyter nbconvert --to <формат> <шлях_до_вашого_notebook.ipynb>"
   ]
  },
  {
   "cell_type": "markdown",
   "id": "3d033daf-1ebe-41d5-b005-8b3985bfd318",
   "metadata": {},
   "source": [
    "<h4>6. Як виконати компіляцію вхідного документа у Quarto?</h4>"
   ]
  },
  {
   "cell_type": "raw",
   "id": "33ff6d50-d7bf-4d2a-b922-b5acaff65645",
   "metadata": {},
   "source": [
    "quarto render my_document.md"
   ]
  }
 ],
 "metadata": {
  "kernelspec": {
   "display_name": "Python 3 (ipykernel)",
   "language": "python",
   "name": "python3"
  },
  "language_info": {
   "codemirror_mode": {
    "name": "ipython",
    "version": 3
   },
   "file_extension": ".py",
   "mimetype": "text/x-python",
   "name": "python",
   "nbconvert_exporter": "python",
   "pygments_lexer": "ipython3",
   "version": "3.12.2"
  }
 },
 "nbformat": 4,
 "nbformat_minor": 5
}
